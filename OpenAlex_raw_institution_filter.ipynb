{
  "nbformat": 4,
  "nbformat_minor": 0,
  "metadata": {
    "colab": {
      "provenance": [],
      "mount_file_id": "10xSVAX7bUiT81Rf395uHZQKaeTAu-P1G",
      "authorship_tag": "ABX9TyMlD3bFgcwEcuNPcl0RoTsN",
      "include_colab_link": true
    },
    "kernelspec": {
      "name": "python3",
      "display_name": "Python 3"
    },
    "language_info": {
      "name": "python"
    }
  },
  "cells": [
    {
      "cell_type": "markdown",
      "metadata": {
        "id": "view-in-github",
        "colab_type": "text"
      },
      "source": [
        "<a href=\"https://colab.research.google.com/github/andgreenman/OpenAlex-raw-affiliation-filter/blob/main/OpenAlex_raw_institution_filter.ipynb\" target=\"_parent\"><img src=\"https://colab.research.google.com/assets/colab-badge.svg\" alt=\"Open In Colab\"/></a>"
      ]
    },
    {
      "cell_type": "markdown",
      "source": [
        "This code takes an OpenAlex search result exported to csv and uses Pandas to filter by raw institution strings, allowing specific departmental affiliations to be searched."
      ],
      "metadata": {
        "id": "9QMeoB30SJcO"
      }
    },
    {
      "cell_type": "code",
      "execution_count": 3,
      "metadata": {
        "id": "SjNckL6tSItN"
      },
      "outputs": [],
      "source": [
        "import pandas as pd\n",
        "import datetime"
      ]
    },
    {
      "cell_type": "code",
      "source": [
        "file = r'' #put OpenAlex export csv path here"
      ],
      "metadata": {
        "id": "UlOXiCIhSLha"
      },
      "execution_count": 1,
      "outputs": []
    },
    {
      "cell_type": "code",
      "source": [
        "works = pd.read_csv (file, header=0)\n",
        "df = pd.DataFrame(works)\n",
        "df.dropna(subset='publication_year') # OpenAlex exports sometimes have random junk rows, usually this catches them"
      ],
      "metadata": {
        "collapsed": true,
        "id": "imk8NUfNSQbk"
      },
      "execution_count": null,
      "outputs": []
    },
    {
      "cell_type": "code",
      "source": [
        "department = ''"
      ],
      "metadata": {
        "id": "S6QmGpEdSRx7"
      },
      "execution_count": 7,
      "outputs": []
    },
    {
      "cell_type": "code",
      "source": [
        "df[df['authorships.affiliations'].str.contains(department)]"
      ],
      "metadata": {
        "collapsed": true,
        "id": "FadHCTPKSXPV"
      },
      "execution_count": null,
      "outputs": []
    },
    {
      "cell_type": "code",
      "source": [
        "filename = '' #put filename here\n",
        "\n",
        "date = datetime.datetime.today().strftime('%Y-%m-%d')"
      ],
      "metadata": {
        "id": "abNbH6UvSbG-"
      },
      "execution_count": 9,
      "outputs": []
    },
    {
      "cell_type": "code",
      "source": [
        "df[df['authorships.affiliations'].str.contains(department)].to_csv(date + '_' + filename+'.csv', index=False)"
      ],
      "metadata": {
        "id": "a-zotfW1ScL-"
      },
      "execution_count": 10,
      "outputs": []
    }
  ]
}